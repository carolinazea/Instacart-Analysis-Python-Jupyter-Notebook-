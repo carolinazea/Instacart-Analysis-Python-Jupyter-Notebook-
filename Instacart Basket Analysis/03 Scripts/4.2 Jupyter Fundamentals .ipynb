{
 "cells": [
  {
   "cell_type": "markdown",
   "id": "34740321",
   "metadata": {},
   "source": [
    "# 4.2 Jupyter Fundamentals "
   ]
  },
  {
   "cell_type": "code",
   "execution_count": null,
   "id": "9380e100",
   "metadata": {},
   "outputs": [],
   "source": [
    "# Import libraries"
   ]
  },
  {
   "cell_type": "code",
   "execution_count": 1,
   "id": "e5f36d59",
   "metadata": {},
   "outputs": [],
   "source": [
    "import pandas as pd\n",
    "import numpy as np\n",
    "import os"
   ]
  },
  {
   "cell_type": "markdown",
   "id": "a630808e",
   "metadata": {},
   "source": []
  },
  {
   "cell_type": "markdown",
   "id": "4628cfbd",
   "metadata": {},
   "source": [
    "## Python Data Types "
   ]
  },
  {
   "cell_type": "code",
   "execution_count": 2,
   "id": "7f2e92ad",
   "metadata": {},
   "outputs": [
    {
     "name": "stdout",
     "output_type": "stream",
     "text": [
      "100\n"
     ]
    }
   ],
   "source": [
    "print(50 + 50)"
   ]
  },
  {
   "cell_type": "code",
   "execution_count": 3,
   "id": "dfbc82fc",
   "metadata": {},
   "outputs": [
    {
     "name": "stdout",
     "output_type": "stream",
     "text": [
      "100\n"
     ]
    }
   ],
   "source": [
    "print(250 - 150)"
   ]
  },
  {
   "cell_type": "code",
   "execution_count": 4,
   "id": "dd5c6ec5",
   "metadata": {},
   "outputs": [
    {
     "name": "stdout",
     "output_type": "stream",
     "text": [
      "100\n"
     ]
    }
   ],
   "source": [
    "print(40 + 10 + 50)"
   ]
  },
  {
   "cell_type": "code",
   "execution_count": 5,
   "id": "1169351a",
   "metadata": {},
   "outputs": [
    {
     "name": "stdout",
     "output_type": "stream",
     "text": [
      "1.7741935483870968\n"
     ]
    }
   ],
   "source": [
    "print(5.5 / 3.1)"
   ]
  },
  {
   "cell_type": "code",
   "execution_count": 6,
   "id": "19d0ea82",
   "metadata": {},
   "outputs": [
    {
     "name": "stdout",
     "output_type": "stream",
     "text": [
      "2.9677419354838706\n"
     ]
    }
   ],
   "source": [
    "print(9.2 / 3.1)"
   ]
  },
  {
   "cell_type": "code",
   "execution_count": 7,
   "id": "d5ae2ba6",
   "metadata": {},
   "outputs": [
    {
     "name": "stdout",
     "output_type": "stream",
     "text": [
      "2.1\n"
     ]
    }
   ],
   "source": [
    "print(10.5 / 5.0)"
   ]
  },
  {
   "cell_type": "code",
   "execution_count": 8,
   "id": "d19c995b",
   "metadata": {},
   "outputs": [],
   "source": [
    "a = 'foot'"
   ]
  },
  {
   "cell_type": "code",
   "execution_count": 9,
   "id": "03853a34",
   "metadata": {},
   "outputs": [],
   "source": [
    "b = 'ball'"
   ]
  },
  {
   "cell_type": "code",
   "execution_count": 10,
   "id": "8ea6dd76",
   "metadata": {},
   "outputs": [
    {
     "data": {
      "text/plain": [
       "'football'"
      ]
     },
     "execution_count": 10,
     "metadata": {},
     "output_type": "execute_result"
    }
   ],
   "source": [
    "a + b"
   ]
  },
  {
   "cell_type": "code",
   "execution_count": 11,
   "id": "e33f0d55",
   "metadata": {},
   "outputs": [],
   "source": [
    "x = 'The weather is really '"
   ]
  },
  {
   "cell_type": "code",
   "execution_count": 12,
   "id": "4062d63b",
   "metadata": {},
   "outputs": [],
   "source": [
    "y = 'nice outside.'"
   ]
  },
  {
   "cell_type": "code",
   "execution_count": 13,
   "id": "636b0ddb",
   "metadata": {},
   "outputs": [
    {
     "data": {
      "text/plain": [
       "'The weather is really nice outside.'"
      ]
     },
     "execution_count": 13,
     "metadata": {},
     "output_type": "execute_result"
    }
   ],
   "source": [
    "x + y"
   ]
  },
  {
   "cell_type": "code",
   "execution_count": null,
   "id": "ca877192",
   "metadata": {},
   "outputs": [],
   "source": []
  }
 ],
 "metadata": {
  "kernelspec": {
   "display_name": "Python 3",
   "language": "python",
   "name": "python3"
  },
  "language_info": {
   "codemirror_mode": {
    "name": "ipython",
    "version": 3
   },
   "file_extension": ".py",
   "mimetype": "text/x-python",
   "name": "python",
   "nbconvert_exporter": "python",
   "pygments_lexer": "ipython3",
   "version": "3.8.8"
  }
 },
 "nbformat": 4,
 "nbformat_minor": 5
}
