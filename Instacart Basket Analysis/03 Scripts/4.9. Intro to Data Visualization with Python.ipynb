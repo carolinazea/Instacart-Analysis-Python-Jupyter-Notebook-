{
 "cells": [
  {
   "cell_type": "code",
   "execution_count": 6,
   "id": "cd538a68",
   "metadata": {},
   "outputs": [],
   "source": [
    "#import libraries \n",
    "import pandas as pd\n",
    "import numpy as np\n",
    "import os\n",
    "import matplotlib.pyplot as plt\n",
    "import seaborn as sns\n",
    "import scipy"
   ]
  },
  {
   "cell_type": "code",
   "execution_count": 7,
   "id": "7e8d3652",
   "metadata": {},
   "outputs": [],
   "source": [
    "path = r'/Users/carolinazea/OneDrive/CareerFoundry/Achievement 4- Python/Instacart Basket Analysis'"
   ]
  },
  {
   "cell_type": "code",
   "execution_count": 8,
   "id": "7015dfe4",
   "metadata": {},
   "outputs": [],
   "source": [
    "ords_prods_merge = pd.read_pickle(os.path.join(path, '02 Data', 'Prepared Data', 'orders_products_groupingdata.pkl'))"
   ]
  },
  {
   "cell_type": "code",
   "execution_count": 4,
   "id": "228bd62d",
   "metadata": {},
   "outputs": [
    {
     "data": {
      "text/html": [
       "<div>\n",
       "<style scoped>\n",
       "    .dataframe tbody tr th:only-of-type {\n",
       "        vertical-align: middle;\n",
       "    }\n",
       "\n",
       "    .dataframe tbody tr th {\n",
       "        vertical-align: top;\n",
       "    }\n",
       "\n",
       "    .dataframe thead th {\n",
       "        text-align: right;\n",
       "    }\n",
       "</style>\n",
       "<table border=\"1\" class=\"dataframe\">\n",
       "  <thead>\n",
       "    <tr style=\"text-align: right;\">\n",
       "      <th></th>\n",
       "      <th>order_id</th>\n",
       "      <th>user_id</th>\n",
       "      <th>order_number</th>\n",
       "      <th>orders_day_of_week</th>\n",
       "      <th>order_hour_of_day</th>\n",
       "      <th>days_since_prior_order</th>\n",
       "      <th>product_id</th>\n",
       "      <th>add_to_cart_order</th>\n",
       "      <th>reordered</th>\n",
       "      <th>product_name</th>\n",
       "      <th>...</th>\n",
       "      <th>price_range_loc</th>\n",
       "      <th>busiest_day</th>\n",
       "      <th>Busiest_slowest_days</th>\n",
       "      <th>busiest_period_of_day</th>\n",
       "      <th>median_order</th>\n",
       "      <th>order_frequency_flag</th>\n",
       "      <th>avg_price</th>\n",
       "      <th>spending_flag</th>\n",
       "      <th>max_order</th>\n",
       "      <th>loyalty_flag</th>\n",
       "    </tr>\n",
       "  </thead>\n",
       "  <tbody>\n",
       "    <tr>\n",
       "      <th>0</th>\n",
       "      <td>2539329</td>\n",
       "      <td>1</td>\n",
       "      <td>1</td>\n",
       "      <td>2</td>\n",
       "      <td>8</td>\n",
       "      <td>11.114836</td>\n",
       "      <td>196</td>\n",
       "      <td>1</td>\n",
       "      <td>0</td>\n",
       "      <td>Soda</td>\n",
       "      <td>...</td>\n",
       "      <td>Mid-range product</td>\n",
       "      <td>Regularly busy</td>\n",
       "      <td>Regularly busy</td>\n",
       "      <td>Average orders</td>\n",
       "      <td>20.0</td>\n",
       "      <td>Regular customer</td>\n",
       "      <td>6.367797</td>\n",
       "      <td>Low spender</td>\n",
       "      <td>10</td>\n",
       "      <td>New customer</td>\n",
       "    </tr>\n",
       "    <tr>\n",
       "      <th>1</th>\n",
       "      <td>2398795</td>\n",
       "      <td>1</td>\n",
       "      <td>2</td>\n",
       "      <td>3</td>\n",
       "      <td>7</td>\n",
       "      <td>15.000000</td>\n",
       "      <td>196</td>\n",
       "      <td>1</td>\n",
       "      <td>1</td>\n",
       "      <td>Soda</td>\n",
       "      <td>...</td>\n",
       "      <td>Mid-range product</td>\n",
       "      <td>Regularly busy</td>\n",
       "      <td>Regularly busy</td>\n",
       "      <td>Average orders</td>\n",
       "      <td>20.0</td>\n",
       "      <td>Regular customer</td>\n",
       "      <td>6.367797</td>\n",
       "      <td>Low spender</td>\n",
       "      <td>10</td>\n",
       "      <td>New customer</td>\n",
       "    </tr>\n",
       "    <tr>\n",
       "      <th>2</th>\n",
       "      <td>473747</td>\n",
       "      <td>1</td>\n",
       "      <td>3</td>\n",
       "      <td>3</td>\n",
       "      <td>12</td>\n",
       "      <td>21.000000</td>\n",
       "      <td>196</td>\n",
       "      <td>1</td>\n",
       "      <td>1</td>\n",
       "      <td>Soda</td>\n",
       "      <td>...</td>\n",
       "      <td>Mid-range product</td>\n",
       "      <td>Regularly busy</td>\n",
       "      <td>Regularly busy</td>\n",
       "      <td>Average orders</td>\n",
       "      <td>20.0</td>\n",
       "      <td>Regular customer</td>\n",
       "      <td>6.367797</td>\n",
       "      <td>Low spender</td>\n",
       "      <td>10</td>\n",
       "      <td>New customer</td>\n",
       "    </tr>\n",
       "    <tr>\n",
       "      <th>3</th>\n",
       "      <td>2254736</td>\n",
       "      <td>1</td>\n",
       "      <td>4</td>\n",
       "      <td>4</td>\n",
       "      <td>7</td>\n",
       "      <td>29.000000</td>\n",
       "      <td>196</td>\n",
       "      <td>1</td>\n",
       "      <td>1</td>\n",
       "      <td>Soda</td>\n",
       "      <td>...</td>\n",
       "      <td>Mid-range product</td>\n",
       "      <td>Least busy</td>\n",
       "      <td>Slowest Days</td>\n",
       "      <td>Average orders</td>\n",
       "      <td>20.0</td>\n",
       "      <td>Regular customer</td>\n",
       "      <td>6.367797</td>\n",
       "      <td>Low spender</td>\n",
       "      <td>10</td>\n",
       "      <td>New customer</td>\n",
       "    </tr>\n",
       "    <tr>\n",
       "      <th>4</th>\n",
       "      <td>431534</td>\n",
       "      <td>1</td>\n",
       "      <td>5</td>\n",
       "      <td>4</td>\n",
       "      <td>15</td>\n",
       "      <td>28.000000</td>\n",
       "      <td>196</td>\n",
       "      <td>1</td>\n",
       "      <td>1</td>\n",
       "      <td>Soda</td>\n",
       "      <td>...</td>\n",
       "      <td>Mid-range product</td>\n",
       "      <td>Least busy</td>\n",
       "      <td>Slowest Days</td>\n",
       "      <td>Average orders</td>\n",
       "      <td>20.0</td>\n",
       "      <td>Regular customer</td>\n",
       "      <td>6.367797</td>\n",
       "      <td>Low spender</td>\n",
       "      <td>10</td>\n",
       "      <td>New customer</td>\n",
       "    </tr>\n",
       "  </tbody>\n",
       "</table>\n",
       "<p>5 rows × 24 columns</p>\n",
       "</div>"
      ],
      "text/plain": [
       "   order_id  user_id  order_number  orders_day_of_week  order_hour_of_day  \\\n",
       "0   2539329        1             1                   2                  8   \n",
       "1   2398795        1             2                   3                  7   \n",
       "2    473747        1             3                   3                 12   \n",
       "3   2254736        1             4                   4                  7   \n",
       "4    431534        1             5                   4                 15   \n",
       "\n",
       "   days_since_prior_order  product_id  add_to_cart_order  reordered  \\\n",
       "0               11.114836         196                  1          0   \n",
       "1               15.000000         196                  1          1   \n",
       "2               21.000000         196                  1          1   \n",
       "3               29.000000         196                  1          1   \n",
       "4               28.000000         196                  1          1   \n",
       "\n",
       "  product_name  ...    price_range_loc     busiest_day  Busiest_slowest_days  \\\n",
       "0         Soda  ...  Mid-range product  Regularly busy        Regularly busy   \n",
       "1         Soda  ...  Mid-range product  Regularly busy        Regularly busy   \n",
       "2         Soda  ...  Mid-range product  Regularly busy        Regularly busy   \n",
       "3         Soda  ...  Mid-range product      Least busy          Slowest Days   \n",
       "4         Soda  ...  Mid-range product      Least busy          Slowest Days   \n",
       "\n",
       "  busiest_period_of_day median_order order_frequency_flag avg_price  \\\n",
       "0        Average orders         20.0     Regular customer  6.367797   \n",
       "1        Average orders         20.0     Regular customer  6.367797   \n",
       "2        Average orders         20.0     Regular customer  6.367797   \n",
       "3        Average orders         20.0     Regular customer  6.367797   \n",
       "4        Average orders         20.0     Regular customer  6.367797   \n",
       "\n",
       "  spending_flag  max_order  loyalty_flag  \n",
       "0   Low spender         10  New customer  \n",
       "1   Low spender         10  New customer  \n",
       "2   Low spender         10  New customer  \n",
       "3   Low spender         10  New customer  \n",
       "4   Low spender         10  New customer  \n",
       "\n",
       "[5 rows x 24 columns]"
      ]
     },
     "execution_count": 4,
     "metadata": {},
     "output_type": "execute_result"
    }
   ],
   "source": [
    "ords_prods_merge.head(5)"
   ]
  },
  {
   "cell_type": "markdown",
   "id": "bcbf465e",
   "metadata": {},
   "source": [
    "# Bar charts \n",
    "#### Using 'orders_day_of_week' aka categorical "
   ]
  },
  {
   "cell_type": "markdown",
   "id": "429eff70",
   "metadata": {},
   "source": [
    "### .plot.bar() : tells Python to find the bar() function within the plot module"
   ]
  },
  {
   "cell_type": "code",
   "execution_count": 16,
   "id": "ebfeda00",
   "metadata": {
    "scrolled": true
   },
   "outputs": [
    {
     "data": {
      "text/plain": [
       "<AxesSubplot:>"
      ]
     },
     "execution_count": 16,
     "metadata": {},
     "output_type": "execute_result"
    },
    {
     "data": {
      "image/png": "[encoded data removed]",
      "text/plain": [
       "<Figure size 432x288 with 1 Axes>"
      ]
     },
     "metadata": {
      "needs_background": "light"
     },
     "output_type": "display_data"
    }
   ],
   "source": [
    "ords_prods_merge['orders_day_of_week'].value_counts().plot.bar()"
   ]
  },
  {
   "cell_type": "markdown",
   "id": "b23073c7",
   "metadata": {},
   "source": [
    "### .sort_index() : function will sort the bars in your chart according to their index order"
   ]
  },
  {
   "cell_type": "code",
   "execution_count": 17,
   "id": "80d4b2cb",
   "metadata": {
    "scrolled": true
   },
   "outputs": [
    {
     "data": {
      "text/plain": [
       "<AxesSubplot:>"
      ]
     },
     "execution_count": 17,
     "metadata": {},
     "output_type": "execute_result"
    },
    {
     "data": {
      "image/png": "[encoded data removed]",
      "text/plain": [
       "<Figure size 432x288 with 1 Axes>"
      ]
     },
     "metadata": {
      "needs_background": "light"
     },
     "output_type": "display_data"
    }
   ],
   "source": [
    "ords_prods_merge['orders_day_of_week'].value_counts().sort_index().plot.bar()"
   ]
  },
  {
   "cell_type": "markdown",
   "id": "0b5a5196",
   "metadata": {},
   "source": [
    "### (color=['purple', 'red', 'pink']) "
   ]
  },
  {
   "cell_type": "code",
   "execution_count": 19,
   "id": "ae8963d1",
   "metadata": {},
   "outputs": [
    {
     "data": {
      "text/plain": [
       "<AxesSubplot:>"
      ]
     },
     "execution_count": 19,
     "metadata": {},
     "output_type": "execute_result"
    },
    {
     "data": {
      "image/png": "[encoded data removed]",
      "text/plain": [
       "<Figure size 432x288 with 1 Axes>"
      ]
     },
     "metadata": {
      "needs_background": "light"
     },
     "output_type": "display_data"
    }
   ],
   "source": [
    "ords_prods_merge['orders_day_of_week'].value_counts().sort_index().plot.bar(color =['purple', 'red', 'pink', 'orange', 'yellow', 'green', 'blue'])"
   ]
  },
  {
   "cell_type": "code",
   "execution_count": 21,
   "id": "2bfe19a1",
   "metadata": {},
   "outputs": [
    {
     "data": {
      "image/png": "[encoded data removed]",
      "text/plain": [
       "<Figure size 432x288 with 1 Axes>"
      ]
     },
     "metadata": {
      "needs_background": "light"
     },
     "output_type": "display_data"
    }
   ],
   "source": [
    "#  The code you used above generated a preview for your visualization but didn’t actually save it in Jupyter’s memory. \n",
    "#  Set the bar chart to df 'bar' . You’ll need to update your command to change this:\n",
    "\n",
    "bar = ords_prods_merge['orders_day_of_week'].value_counts().plot.bar(color =['purple', 'red', 'pink', 'orange', 'yellow', 'green', 'blue'])"
   ]
  },
  {
   "cell_type": "markdown",
   "id": "d7f2b8d8",
   "metadata": {},
   "source": [
    "### bar.figure() ---> export it outside of Jupyter in the form of an image file using figure.savefig()"
   ]
  },
  {
   "cell_type": "code",
   "execution_count": 22,
   "id": "7c93866c",
   "metadata": {},
   "outputs": [],
   "source": [
    "bar.figure.savefig(os.path.join(path, '04 Analysis','Visualizations', 'bar_orders_dow.png'))"
   ]
  },
  {
   "cell_type": "markdown",
   "id": "3633e662",
   "metadata": {},
   "source": [
    "# Histograms \n",
    "#### Using 'prices' aka continous "
   ]
  },
  {
   "cell_type": "code",
   "execution_count": null,
   "id": "320b8ec7",
   "metadata": {},
   "outputs": [],
   "source": [
    "## conduct data checks to find mean, median, and max values using describe() or df['columns'].mean()"
   ]
  },
  {
   "cell_type": "markdown",
   "id": "c50fa29a",
   "metadata": {},
   "source": [
    "### .plot.hist()"
   ]
  },
  {
   "cell_type": "code",
   "execution_count": 23,
   "id": "a04cc237",
   "metadata": {},
   "outputs": [
    {
     "data": {
      "text/plain": [
       "<AxesSubplot:ylabel='Frequency'>"
      ]
     },
     "execution_count": 23,
     "metadata": {},
     "output_type": "execute_result"
    },
    {
     "data": {
      "image/png": "[encoded data removed]",
      "text/plain": [
       "<Figure size 432x288 with 1 Axes>"
      ]
     },
     "metadata": {
      "needs_background": "light"
     },
     "output_type": "display_data"
    }
   ],
   "source": [
    "ords_prods_merge['prices'].plot.hist(bins = 25)\n",
    "\n",
    "# Since there is only one column in histogram for the 25 bins, you know this is incorrect so next step, scatterplot"
   ]
  },
  {
   "cell_type": "markdown",
   "id": "85f7e020",
   "metadata": {},
   "source": [
    "## Histograms/Scatterplots: to view outliers "
   ]
  },
  {
   "cell_type": "markdown",
   "id": "ef1d2401",
   "metadata": {},
   "source": [
    "### sns.scatterplot()"
   ]
  },
  {
   "cell_type": "code",
   "execution_count": 24,
   "id": "52d31240",
   "metadata": {},
   "outputs": [
    {
     "data": {
      "text/plain": [
       "<AxesSubplot:xlabel='prices', ylabel='prices'>"
      ]
     },
     "execution_count": 24,
     "metadata": {},
     "output_type": "execute_result"
    },
    {
     "data": {
      "image/png": "[encoded data removed]",
      "text/plain": [
       "<Figure size 432x288 with 1 Axes>"
      ]
     },
     "metadata": {
      "needs_background": "light"
     },
     "output_type": "display_data"
    }
   ],
   "source": [
    "sns.scatterplot(x = 'prices', y = 'prices',data = ords_prods_merge)"
   ]
  },
  {
   "cell_type": "code",
   "execution_count": null,
   "id": "55b1957b",
   "metadata": {},
   "outputs": [],
   "source": [
    "Let’s first determine whether there are any values above a certain threshold in your data, \n",
    "    for instance, anything above the “normal” price of a supermarket item. \n",
    "    If you imagined the maximum price anyone would pay in a supermarket were around $100, \n",
    "    then anything above that amount could be considered an outlier."
   ]
  },
  {
   "cell_type": "code",
   "execution_count": 26,
   "id": "d22ff0be",
   "metadata": {},
   "outputs": [],
   "source": [
    "pd.options.display.max_columns = None"
   ]
  },
  {
   "cell_type": "code",
   "execution_count": 27,
   "id": "3134007c",
   "metadata": {
    "scrolled": true
   },
   "outputs": [
    {
     "data": {
      "text/html": [
       "<div>\n",
       "<style scoped>\n",
       "    .dataframe tbody tr th:only-of-type {\n",
       "        vertical-align: middle;\n",
       "    }\n",
       "\n",
       "    .dataframe tbody tr th {\n",
       "        vertical-align: top;\n",
       "    }\n",
       "\n",
       "    .dataframe thead th {\n",
       "        text-align: right;\n",
       "    }\n",
       "</style>\n",
       "<table border=\"1\" class=\"dataframe\">\n",
       "  <thead>\n",
       "    <tr style=\"text-align: right;\">\n",
       "      <th></th>\n",
       "      <th>order_id</th>\n",
       "      <th>user_id</th>\n",
       "      <th>order_number</th>\n",
       "      <th>orders_day_of_week</th>\n",
       "      <th>order_hour_of_day</th>\n",
       "      <th>days_since_prior_order</th>\n",
       "      <th>product_id</th>\n",
       "      <th>add_to_cart_order</th>\n",
       "      <th>reordered</th>\n",
       "      <th>product_name</th>\n",
       "      <th>aisle_id</th>\n",
       "      <th>department_id</th>\n",
       "      <th>prices</th>\n",
       "      <th>_merge</th>\n",
       "      <th>price_range_loc</th>\n",
       "      <th>busiest_day</th>\n",
       "      <th>Busiest_slowest_days</th>\n",
       "      <th>busiest_period_of_day</th>\n",
       "      <th>median_order</th>\n",
       "      <th>order_frequency_flag</th>\n",
       "      <th>avg_price</th>\n",
       "      <th>spending_flag</th>\n",
       "      <th>max_order</th>\n",
       "      <th>loyalty_flag</th>\n",
       "    </tr>\n",
       "  </thead>\n",
       "  <tbody>\n",
       "    <tr>\n",
       "      <th>10030345</th>\n",
       "      <td>912404</td>\n",
       "      <td>17</td>\n",
       "      <td>12</td>\n",
       "      <td>2</td>\n",
       "      <td>14</td>\n",
       "      <td>5.0</td>\n",
       "      <td>21553</td>\n",
       "      <td>5</td>\n",
       "      <td>0</td>\n",
       "      <td>Lowfat 2% Milkfat Cottage Cheese</td>\n",
       "      <td>108</td>\n",
       "      <td>16</td>\n",
       "      <td>14900.0</td>\n",
       "      <td>both</td>\n",
       "      <td>High-range product</td>\n",
       "      <td>Regularly busy</td>\n",
       "      <td>Regularly busy</td>\n",
       "      <td>Average orders</td>\n",
       "      <td>5.000000</td>\n",
       "      <td>Frequent customer</td>\n",
       "      <td>108.648299</td>\n",
       "      <td>High spender</td>\n",
       "      <td>40</td>\n",
       "      <td>Regular customer</td>\n",
       "    </tr>\n",
       "    <tr>\n",
       "      <th>10030346</th>\n",
       "      <td>603376</td>\n",
       "      <td>17</td>\n",
       "      <td>22</td>\n",
       "      <td>6</td>\n",
       "      <td>16</td>\n",
       "      <td>4.0</td>\n",
       "      <td>21553</td>\n",
       "      <td>3</td>\n",
       "      <td>1</td>\n",
       "      <td>Lowfat 2% Milkfat Cottage Cheese</td>\n",
       "      <td>108</td>\n",
       "      <td>16</td>\n",
       "      <td>14900.0</td>\n",
       "      <td>both</td>\n",
       "      <td>High-range product</td>\n",
       "      <td>Regularly busy</td>\n",
       "      <td>Regularly busy</td>\n",
       "      <td>Average orders</td>\n",
       "      <td>5.000000</td>\n",
       "      <td>Frequent customer</td>\n",
       "      <td>108.648299</td>\n",
       "      <td>High spender</td>\n",
       "      <td>40</td>\n",
       "      <td>Regular customer</td>\n",
       "    </tr>\n",
       "    <tr>\n",
       "      <th>10030347</th>\n",
       "      <td>3264360</td>\n",
       "      <td>135</td>\n",
       "      <td>2</td>\n",
       "      <td>2</td>\n",
       "      <td>21</td>\n",
       "      <td>13.0</td>\n",
       "      <td>21553</td>\n",
       "      <td>6</td>\n",
       "      <td>0</td>\n",
       "      <td>Lowfat 2% Milkfat Cottage Cheese</td>\n",
       "      <td>108</td>\n",
       "      <td>16</td>\n",
       "      <td>14900.0</td>\n",
       "      <td>both</td>\n",
       "      <td>High-range product</td>\n",
       "      <td>Regularly busy</td>\n",
       "      <td>Regularly busy</td>\n",
       "      <td>Average orders</td>\n",
       "      <td>11.557418</td>\n",
       "      <td>Regular customer</td>\n",
       "      <td>1154.792308</td>\n",
       "      <td>High spender</td>\n",
       "      <td>4</td>\n",
       "      <td>New customer</td>\n",
       "    </tr>\n",
       "    <tr>\n",
       "      <th>10030348</th>\n",
       "      <td>892534</td>\n",
       "      <td>135</td>\n",
       "      <td>3</td>\n",
       "      <td>0</td>\n",
       "      <td>8</td>\n",
       "      <td>12.0</td>\n",
       "      <td>21553</td>\n",
       "      <td>3</td>\n",
       "      <td>1</td>\n",
       "      <td>Lowfat 2% Milkfat Cottage Cheese</td>\n",
       "      <td>108</td>\n",
       "      <td>16</td>\n",
       "      <td>14900.0</td>\n",
       "      <td>both</td>\n",
       "      <td>High-range product</td>\n",
       "      <td>Busiest day</td>\n",
       "      <td>Busiest days</td>\n",
       "      <td>Average orders</td>\n",
       "      <td>11.557418</td>\n",
       "      <td>Regular customer</td>\n",
       "      <td>1154.792308</td>\n",
       "      <td>High spender</td>\n",
       "      <td>4</td>\n",
       "      <td>New customer</td>\n",
       "    </tr>\n",
       "    <tr>\n",
       "      <th>10030349</th>\n",
       "      <td>229704</td>\n",
       "      <td>342</td>\n",
       "      <td>8</td>\n",
       "      <td>1</td>\n",
       "      <td>19</td>\n",
       "      <td>30.0</td>\n",
       "      <td>21553</td>\n",
       "      <td>9</td>\n",
       "      <td>0</td>\n",
       "      <td>Lowfat 2% Milkfat Cottage Cheese</td>\n",
       "      <td>108</td>\n",
       "      <td>16</td>\n",
       "      <td>14900.0</td>\n",
       "      <td>both</td>\n",
       "      <td>High-range product</td>\n",
       "      <td>Regularly busy</td>\n",
       "      <td>Regularly busy</td>\n",
       "      <td>Average orders</td>\n",
       "      <td>20.000000</td>\n",
       "      <td>Regular customer</td>\n",
       "      <td>114.426619</td>\n",
       "      <td>High spender</td>\n",
       "      <td>16</td>\n",
       "      <td>Regular customer</td>\n",
       "    </tr>\n",
       "    <tr>\n",
       "      <th>...</th>\n",
       "      <td>...</td>\n",
       "      <td>...</td>\n",
       "      <td>...</td>\n",
       "      <td>...</td>\n",
       "      <td>...</td>\n",
       "      <td>...</td>\n",
       "      <td>...</td>\n",
       "      <td>...</td>\n",
       "      <td>...</td>\n",
       "      <td>...</td>\n",
       "      <td>...</td>\n",
       "      <td>...</td>\n",
       "      <td>...</td>\n",
       "      <td>...</td>\n",
       "      <td>...</td>\n",
       "      <td>...</td>\n",
       "      <td>...</td>\n",
       "      <td>...</td>\n",
       "      <td>...</td>\n",
       "      <td>...</td>\n",
       "      <td>...</td>\n",
       "      <td>...</td>\n",
       "      <td>...</td>\n",
       "      <td>...</td>\n",
       "    </tr>\n",
       "    <tr>\n",
       "      <th>29166209</th>\n",
       "      <td>2249946</td>\n",
       "      <td>204099</td>\n",
       "      <td>29</td>\n",
       "      <td>0</td>\n",
       "      <td>8</td>\n",
       "      <td>4.0</td>\n",
       "      <td>33664</td>\n",
       "      <td>1</td>\n",
       "      <td>0</td>\n",
       "      <td>2 % Reduced Fat  Milk</td>\n",
       "      <td>84</td>\n",
       "      <td>16</td>\n",
       "      <td>99999.0</td>\n",
       "      <td>both</td>\n",
       "      <td>High-range product</td>\n",
       "      <td>Busiest day</td>\n",
       "      <td>Busiest days</td>\n",
       "      <td>Average orders</td>\n",
       "      <td>4.000000</td>\n",
       "      <td>Frequent customer</td>\n",
       "      <td>1106.743956</td>\n",
       "      <td>High spender</td>\n",
       "      <td>39</td>\n",
       "      <td>Regular customer</td>\n",
       "    </tr>\n",
       "    <tr>\n",
       "      <th>29166210</th>\n",
       "      <td>2363282</td>\n",
       "      <td>204099</td>\n",
       "      <td>31</td>\n",
       "      <td>0</td>\n",
       "      <td>9</td>\n",
       "      <td>2.0</td>\n",
       "      <td>33664</td>\n",
       "      <td>1</td>\n",
       "      <td>1</td>\n",
       "      <td>2 % Reduced Fat  Milk</td>\n",
       "      <td>84</td>\n",
       "      <td>16</td>\n",
       "      <td>99999.0</td>\n",
       "      <td>both</td>\n",
       "      <td>High-range product</td>\n",
       "      <td>Busiest day</td>\n",
       "      <td>Busiest days</td>\n",
       "      <td>Average orders</td>\n",
       "      <td>4.000000</td>\n",
       "      <td>Frequent customer</td>\n",
       "      <td>1106.743956</td>\n",
       "      <td>High spender</td>\n",
       "      <td>39</td>\n",
       "      <td>Regular customer</td>\n",
       "    </tr>\n",
       "    <tr>\n",
       "      <th>29166211</th>\n",
       "      <td>3181945</td>\n",
       "      <td>204395</td>\n",
       "      <td>13</td>\n",
       "      <td>3</td>\n",
       "      <td>15</td>\n",
       "      <td>8.0</td>\n",
       "      <td>33664</td>\n",
       "      <td>25</td>\n",
       "      <td>0</td>\n",
       "      <td>2 % Reduced Fat  Milk</td>\n",
       "      <td>84</td>\n",
       "      <td>16</td>\n",
       "      <td>99999.0</td>\n",
       "      <td>both</td>\n",
       "      <td>High-range product</td>\n",
       "      <td>Regularly busy</td>\n",
       "      <td>Regularly busy</td>\n",
       "      <td>Average orders</td>\n",
       "      <td>5.000000</td>\n",
       "      <td>Frequent customer</td>\n",
       "      <td>451.153540</td>\n",
       "      <td>High spender</td>\n",
       "      <td>15</td>\n",
       "      <td>Regular customer</td>\n",
       "    </tr>\n",
       "    <tr>\n",
       "      <th>29166212</th>\n",
       "      <td>2486215</td>\n",
       "      <td>205227</td>\n",
       "      <td>7</td>\n",
       "      <td>3</td>\n",
       "      <td>20</td>\n",
       "      <td>4.0</td>\n",
       "      <td>33664</td>\n",
       "      <td>8</td>\n",
       "      <td>0</td>\n",
       "      <td>2 % Reduced Fat  Milk</td>\n",
       "      <td>84</td>\n",
       "      <td>16</td>\n",
       "      <td>99999.0</td>\n",
       "      <td>both</td>\n",
       "      <td>High-range product</td>\n",
       "      <td>Regularly busy</td>\n",
       "      <td>Regularly busy</td>\n",
       "      <td>Average orders</td>\n",
       "      <td>11.114836</td>\n",
       "      <td>Regular customer</td>\n",
       "      <td>1178.381871</td>\n",
       "      <td>High spender</td>\n",
       "      <td>12</td>\n",
       "      <td>Regular customer</td>\n",
       "    </tr>\n",
       "    <tr>\n",
       "      <th>29166213</th>\n",
       "      <td>2232716</td>\n",
       "      <td>205227</td>\n",
       "      <td>10</td>\n",
       "      <td>0</td>\n",
       "      <td>11</td>\n",
       "      <td>4.0</td>\n",
       "      <td>33664</td>\n",
       "      <td>23</td>\n",
       "      <td>1</td>\n",
       "      <td>2 % Reduced Fat  Milk</td>\n",
       "      <td>84</td>\n",
       "      <td>16</td>\n",
       "      <td>99999.0</td>\n",
       "      <td>both</td>\n",
       "      <td>High-range product</td>\n",
       "      <td>Busiest day</td>\n",
       "      <td>Busiest days</td>\n",
       "      <td>Most orders</td>\n",
       "      <td>11.114836</td>\n",
       "      <td>Regular customer</td>\n",
       "      <td>1178.381871</td>\n",
       "      <td>High spender</td>\n",
       "      <td>12</td>\n",
       "      <td>Regular customer</td>\n",
       "    </tr>\n",
       "  </tbody>\n",
       "</table>\n",
       "<p>5127 rows × 24 columns</p>\n",
       "</div>"
      ],
      "text/plain": [
       "          order_id  user_id  order_number  orders_day_of_week  \\\n",
       "10030345    912404       17            12                   2   \n",
       "10030346    603376       17            22                   6   \n",
       "10030347   3264360      135             2                   2   \n",
       "10030348    892534      135             3                   0   \n",
       "10030349    229704      342             8                   1   \n",
       "...            ...      ...           ...                 ...   \n",
       "29166209   2249946   204099            29                   0   \n",
       "29166210   2363282   204099            31                   0   \n",
       "29166211   3181945   204395            13                   3   \n",
       "29166212   2486215   205227             7                   3   \n",
       "29166213   2232716   205227            10                   0   \n",
       "\n",
       "          order_hour_of_day  days_since_prior_order  product_id  \\\n",
       "10030345                 14                     5.0       21553   \n",
       "10030346                 16                     4.0       21553   \n",
       "10030347                 21                    13.0       21553   \n",
       "10030348                  8                    12.0       21553   \n",
       "10030349                 19                    30.0       21553   \n",
       "...                     ...                     ...         ...   \n",
       "29166209                  8                     4.0       33664   \n",
       "29166210                  9                     2.0       33664   \n",
       "29166211                 15                     8.0       33664   \n",
       "29166212                 20                     4.0       33664   \n",
       "29166213                 11                     4.0       33664   \n",
       "\n",
       "          add_to_cart_order  reordered                      product_name  \\\n",
       "10030345                  5          0  Lowfat 2% Milkfat Cottage Cheese   \n",
       "10030346                  3          1  Lowfat 2% Milkfat Cottage Cheese   \n",
       "10030347                  6          0  Lowfat 2% Milkfat Cottage Cheese   \n",
       "10030348                  3          1  Lowfat 2% Milkfat Cottage Cheese   \n",
       "10030349                  9          0  Lowfat 2% Milkfat Cottage Cheese   \n",
       "...                     ...        ...                               ...   \n",
       "29166209                  1          0             2 % Reduced Fat  Milk   \n",
       "29166210                  1          1             2 % Reduced Fat  Milk   \n",
       "29166211                 25          0             2 % Reduced Fat  Milk   \n",
       "29166212                  8          0             2 % Reduced Fat  Milk   \n",
       "29166213                 23          1             2 % Reduced Fat  Milk   \n",
       "\n",
       "          aisle_id  department_id   prices _merge     price_range_loc  \\\n",
       "10030345       108             16  14900.0   both  High-range product   \n",
       "10030346       108             16  14900.0   both  High-range product   \n",
       "10030347       108             16  14900.0   both  High-range product   \n",
       "10030348       108             16  14900.0   both  High-range product   \n",
       "10030349       108             16  14900.0   both  High-range product   \n",
       "...            ...            ...      ...    ...                 ...   \n",
       "29166209        84             16  99999.0   both  High-range product   \n",
       "29166210        84             16  99999.0   both  High-range product   \n",
       "29166211        84             16  99999.0   both  High-range product   \n",
       "29166212        84             16  99999.0   both  High-range product   \n",
       "29166213        84             16  99999.0   both  High-range product   \n",
       "\n",
       "             busiest_day Busiest_slowest_days busiest_period_of_day  \\\n",
       "10030345  Regularly busy       Regularly busy        Average orders   \n",
       "10030346  Regularly busy       Regularly busy        Average orders   \n",
       "10030347  Regularly busy       Regularly busy        Average orders   \n",
       "10030348     Busiest day         Busiest days        Average orders   \n",
       "10030349  Regularly busy       Regularly busy        Average orders   \n",
       "...                  ...                  ...                   ...   \n",
       "29166209     Busiest day         Busiest days        Average orders   \n",
       "29166210     Busiest day         Busiest days        Average orders   \n",
       "29166211  Regularly busy       Regularly busy        Average orders   \n",
       "29166212  Regularly busy       Regularly busy        Average orders   \n",
       "29166213     Busiest day         Busiest days           Most orders   \n",
       "\n",
       "          median_order order_frequency_flag    avg_price spending_flag  \\\n",
       "10030345      5.000000    Frequent customer   108.648299  High spender   \n",
       "10030346      5.000000    Frequent customer   108.648299  High spender   \n",
       "10030347     11.557418     Regular customer  1154.792308  High spender   \n",
       "10030348     11.557418     Regular customer  1154.792308  High spender   \n",
       "10030349     20.000000     Regular customer   114.426619  High spender   \n",
       "...                ...                  ...          ...           ...   \n",
       "29166209      4.000000    Frequent customer  1106.743956  High spender   \n",
       "29166210      4.000000    Frequent customer  1106.743956  High spender   \n",
       "29166211      5.000000    Frequent customer   451.153540  High spender   \n",
       "29166212     11.114836     Regular customer  1178.381871  High spender   \n",
       "29166213     11.114836     Regular customer  1178.381871  High spender   \n",
       "\n",
       "          max_order      loyalty_flag  \n",
       "10030345         40  Regular customer  \n",
       "10030346         40  Regular customer  \n",
       "10030347          4      New customer  \n",
       "10030348          4      New customer  \n",
       "10030349         16  Regular customer  \n",
       "...             ...               ...  \n",
       "29166209         39  Regular customer  \n",
       "29166210         39  Regular customer  \n",
       "29166211         15  Regular customer  \n",
       "29166212         12  Regular customer  \n",
       "29166213         12  Regular customer  \n",
       "\n",
       "[5127 rows x 24 columns]"
      ]
     },
     "execution_count": 27,
     "metadata": {},
     "output_type": "execute_result"
    }
   ],
   "source": [
    "ords_prods_merge.loc[ords_prods_merge['prices'] > 100]"
   ]
  },
  {
   "cell_type": "code",
   "execution_count": null,
   "id": "0ce74aec",
   "metadata": {},
   "outputs": [],
   "source": [
    "At the top of the “prices” column, you can see that there’s another odd value, $14,900.00, which \n",
    "corresponds to the second unexplainable point in the scatterplot. \n",
    "Following this is the $99,999.00 you identified previously. \n",
    "As such, you can assume that it’s the $14,900.00 and $99,999.00 values that are skewing your charts."
   ]
  },
  {
   "cell_type": "code",
   "execution_count": null,
   "id": "059d6c31",
   "metadata": {},
   "outputs": [],
   "source": [
    "## Mark values ($14,900.00) as missing since they don’t make sense in terms of the other values in the column."
   ]
  },
  {
   "cell_type": "markdown",
   "id": "d5477102",
   "metadata": {},
   "source": [
    "### = np.nan: From the NumPy library; it’s used to assign missing values"
   ]
  },
  {
   "cell_type": "code",
   "execution_count": 28,
   "id": "034f5be3",
   "metadata": {},
   "outputs": [],
   "source": [
    "ords_prods_merge.loc[ords_prods_merge['prices'] >100, 'prices'] = np.nan"
   ]
  },
  {
   "cell_type": "code",
   "execution_count": null,
   "id": "f36eeb05",
   "metadata": {},
   "outputs": [],
   "source": [
    "## Check whether the replacement was successful by running a max-value check on your “prices” column"
   ]
  },
  {
   "cell_type": "code",
   "execution_count": 30,
   "id": "d7b69755",
   "metadata": {},
   "outputs": [
    {
     "data": {
      "text/plain": [
       "25.0"
      ]
     },
     "execution_count": 30,
     "metadata": {},
     "output_type": "execute_result"
    }
   ],
   "source": [
    "# Bin should = 25 as that was set as the max value\n",
    "\n",
    "ords_prods_merge['prices'].max()"
   ]
  },
  {
   "cell_type": "code",
   "execution_count": null,
   "id": "cfa267d4",
   "metadata": {},
   "outputs": [],
   "source": [
    "# Define the histogram df to 'hist = ''"
   ]
  },
  {
   "cell_type": "code",
   "execution_count": 31,
   "id": "5ce7983e",
   "metadata": {},
   "outputs": [
    {
     "data": {
      "image/png": "[encoded data removed]",
      "text/plain": [
       "<Figure size 432x288 with 1 Axes>"
      ]
     },
     "metadata": {
      "needs_background": "light"
     },
     "output_type": "display_data"
    }
   ],
   "source": [
    "hist = ords_prods_merge['prices'].plot.hist(bins = 25)\n",
    "\n",
    "# Most prices are within 0 to $15 "
   ]
  },
  {
   "cell_type": "code",
   "execution_count": null,
   "id": "20df3e1a",
   "metadata": {},
   "outputs": [],
   "source": [
    "To increase the level of granularity in the histogram, simply increase the number of bins to, say, 70\n",
    "define df to 'hist_2 ='"
   ]
  },
  {
   "cell_type": "code",
   "execution_count": 32,
   "id": "ab78eed9",
   "metadata": {},
   "outputs": [
    {
     "data": {
      "image/png": "[encoded data removed]",
      "text/plain": [
       "<Figure size 432x288 with 1 Axes>"
      ]
     },
     "metadata": {
      "needs_background": "light"
     },
     "output_type": "display_data"
    }
   ],
   "source": [
    "hist_2 = ords_prods_merge['prices'].plot.hist(bins = 70)\n",
    "\n",
    "# Will create thinner lines "
   ]
  },
  {
   "cell_type": "markdown",
   "id": "1658d637",
   "metadata": {},
   "source": [
    "### hist.figure() ---> export it outside of Jupyter in the form of an image file using figure.savefig()"
   ]
  },
  {
   "cell_type": "code",
   "execution_count": 33,
   "id": "8f21402c",
   "metadata": {},
   "outputs": [],
   "source": [
    "hist.figure.savefig(os.path.join(path, '04 Analysis','Visualizations', 'hist_prices_dow.png'))"
   ]
  },
  {
   "cell_type": "markdown",
   "id": "ee1ea1ce",
   "metadata": {},
   "source": [
    "## Sampling Data for Line Charts"
   ]
  },
  {
   "cell_type": "code",
   "execution_count": 35,
   "id": "c6f2f6a3",
   "metadata": {},
   "outputs": [
    {
     "data": {
      "text/plain": [
       "array([0.79061965, 0.58165743, 0.84889336, 0.32715144, 0.44901392,\n",
       "       0.46054579, 0.46178626, 0.71672447, 0.63408497, 0.51795322])"
      ]
     },
     "execution_count": 35,
     "metadata": {},
     "output_type": "execute_result"
    }
   ],
   "source": [
    "np.random.rand(10)"
   ]
  },
  {
   "cell_type": "code",
   "execution_count": null,
   "id": "f7fb0064",
   "metadata": {},
   "outputs": [],
   "source": [
    "# 1.  Set the seed for the random number generator"
   ]
  },
  {
   "cell_type": "code",
   "execution_count": null,
   "id": "af05bf47",
   "metadata": {},
   "outputs": [],
   "source": [
    "#The value you put inside the seed doesn’t actually matter in the grand scheme of things\n",
    "\n",
    "np.random.seed(4)"
   ]
  },
  {
   "cell_type": "code",
   "execution_count": null,
   "id": "a9324201",
   "metadata": {},
   "outputs": [],
   "source": [
    "# 2. Creating these samples requires a list of random floating numbers between 0 and 1 \n",
    " #     (with 1 representing 100 percent of the dataframe) that’s as long as the length of the dataframe.\n",
    "\n",
    "          70/30 split, for example, the 30 percent \n",
    "          sample would statistically resemble the 70 percent sample but contain less rows.\n",
    "\n",
    "         You’d normally use 80 percent of a data set to train the algorithm and the \n",
    "        remaining 20 percent to check the accuracy of the model."
   ]
  },
  {
   "cell_type": "code",
   "execution_count": null,
   "id": "91875cbb",
   "metadata": {},
   "outputs": [],
   "source": [
    "# 3. Code a logical test comparing each of those numbers to a value of 0.7 (either less than or greater than 0.7).\n",
    "\n",
    "np.random.rand(len(ords_prods_merge)) <= 0.7"
   ]
  },
  {
   "cell_type": "code",
   "execution_count": null,
   "id": "bf136b5d",
   "metadata": {},
   "outputs": [],
   "source": [
    "# 4. Store the results of the test in a new list, dev, in the form of boolean values (True and False).\n",
    "\n",
    "dev = np.random.rand(len(ords_prods_merge)) <= 0.7"
   ]
  },
  {
   "cell_type": "code",
   "execution_count": 36,
   "id": "467cd1b0",
   "metadata": {},
   "outputs": [],
   "source": [
    "##\n",
    "\n",
    "dev = np.random.rand(len(ords_prods_merge)) <= 0.7"
   ]
  },
  {
   "cell_type": "code",
   "execution_count": 37,
   "id": "5f0919d1",
   "metadata": {},
   "outputs": [],
   "source": [
    "# Stores 70 % of the sample \n",
    "# For every value in the list that’s True\n",
    "\n",
    "big = ords_prods_merge[dev]"
   ]
  },
  {
   "cell_type": "code",
   "execution_count": 38,
   "id": "31752ece",
   "metadata": {},
   "outputs": [],
   "source": [
    "# Stores 30 % of the sample \n",
    "# For every value in the list that’s False\n",
    "\n",
    "small = ords_prods_merge[~dev]"
   ]
  },
  {
   "cell_type": "code",
   "execution_count": 39,
   "id": "e159ee09",
   "metadata": {},
   "outputs": [
    {
     "data": {
      "text/plain": [
       "32404859"
      ]
     },
     "execution_count": 39,
     "metadata": {},
     "output_type": "execute_result"
    }
   ],
   "source": [
    "# if you added the rows of both samples together, you’d get \n",
    "# the same numbers of rows as your original ords_prods_merge dataframe.\n",
    "\n",
    "len(ords_prods_merge)"
   ]
  },
  {
   "cell_type": "code",
   "execution_count": 40,
   "id": "0787cecf",
   "metadata": {},
   "outputs": [
    {
     "data": {
      "text/plain": [
       "32404859"
      ]
     },
     "execution_count": 40,
     "metadata": {},
     "output_type": "execute_result"
    }
   ],
   "source": [
    "# confirm total number of rows of big and small, does it equal to the original df?\n",
    "\n",
    "len(big) + len(small)"
   ]
  },
  {
   "cell_type": "markdown",
   "id": "e97a4b8b",
   "metadata": {},
   "source": [
    "## Line Charts\n",
    "### sns.lineplot"
   ]
  },
  {
   "cell_type": "code",
   "execution_count": 42,
   "id": "ff5b943e",
   "metadata": {},
   "outputs": [],
   "source": [
    "# Include columns necessary for the chart \n",
    "# Set it to df_2 \n",
    "\n",
    "df_2 = small[['orders_day_of_week','prices']]"
   ]
  },
  {
   "cell_type": "code",
   "execution_count": 44,
   "id": "f654066b",
   "metadata": {},
   "outputs": [
    {
     "data": {
      "image/png": "[encoded data removed]",
      "text/plain": [
       "<Figure size 432x288 with 1 Axes>"
      ]
     },
     "metadata": {
      "needs_background": "light"
     },
     "output_type": "display_data"
    }
   ],
   "source": [
    "line = sns.lineplot(data = df_2, x = 'orders_day_of_week',y = 'prices')\n",
    "\n",
    "# Blue Error bands represent the chart’s confidence intervals. In other words, if this line were a prediction, \n",
    "# there would be a 95 percent probability that the predicted value would fall within the area of the error bands."
   ]
  },
  {
   "cell_type": "code",
   "execution_count": 45,
   "id": "26c5307c",
   "metadata": {},
   "outputs": [],
   "source": [
    "#  The best way to check is to compare the line chart of your subset \n",
    "#  with the line chart of the entire dataframe (or even the big sample)\n",
    "\n",
    "df_4 = ords_prods_merge[['orders_day_of_week','prices']]"
   ]
  },
  {
   "cell_type": "code",
   "execution_count": 46,
   "id": "5a9ff950",
   "metadata": {},
   "outputs": [
    {
     "data": {
      "image/png": "[encoded data removed]",
      "text/plain": [
       "<Figure size 432x288 with 1 Axes>"
      ]
     },
     "metadata": {
      "needs_background": "light"
     },
     "output_type": "display_data"
    }
   ],
   "source": [
    "# Use df_4 in line_2\n",
    "\n",
    "line_2 = sns.lineplot(data = df_4, x = 'orders_day_of_week',y = 'prices')"
   ]
  },
  {
   "cell_type": "code",
   "execution_count": null,
   "id": "2056af75",
   "metadata": {},
   "outputs": [],
   "source": []
  }
 ],
 "metadata": {
  "kernelspec": {
   "display_name": "Python 3",
   "language": "python",
   "name": "python3"
  },
  "language_info": {
   "codemirror_mode": {
    "name": "ipython",
    "version": 3
   },
   "file_extension": ".py",
   "mimetype": "text/x-python",
   "name": "python",
   "nbconvert_exporter": "python",
   "pygments_lexer": "ipython3",
   "version": "3.8.8"
  }
 },
 "nbformat": 4,
 "nbformat_minor": 5
}
